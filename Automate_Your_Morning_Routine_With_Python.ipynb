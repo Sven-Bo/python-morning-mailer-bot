{
 "cells": [
  {
   "cell_type": "markdown",
   "id": "55129ad3",
   "metadata": {},
   "source": [
    "# Automate Your Morning Routine With Python"
   ]
  },
  {
   "cell_type": "markdown",
   "id": "cc4e6482",
   "metadata": {},
   "source": [
    "## 🎯 The Gameplan"
   ]
  },
  {
   "cell_type": "markdown",
   "id": "a63e2644",
   "metadata": {},
   "source": [
    "<div class=\"alert alert-block alert-info\">\n",
    "<b>APIs: </b><b>A</b>pplication <b>P</b>rogramming <b>I</b>nterfaces, are like waiters in a restaurant: they take your order, tell the kitchen what to make, and then bring the food back to you. They allow different pieces of software to talk to each other and exchange information smoothly.</div>"
   ]
  },
  {
   "cell_type": "markdown",
   "id": "88dc14f1",
   "metadata": {},
   "source": [
    "👉 A collective list of free APIs: https://github.com/public-apis/public-apis"
   ]
  },
  {
   "cell_type": "markdown",
   "id": "f2defa54",
   "metadata": {},
   "source": [
    "![FlowChart](https://pythonandvba.com/wp-content/uploads/2023/10/FlowChart_Animation.gif \"FlorChart\")"
   ]
  },
  {
   "cell_type": "markdown",
   "id": "8e9bf4f7",
   "metadata": {},
   "source": [
    "<hr>"
   ]
  },
  {
   "cell_type": "markdown",
   "id": "90c20e86",
   "metadata": {},
   "source": [
    "## 🔑 Storing Credentials "
   ]
  },
  {
   "cell_type": "markdown",
   "id": "85b4fc67",
   "metadata": {},
   "source": [
    "<p style=\"background:black\">\n",
    "<code style=\"background:black;color:white\">C:\\Users\\YOUR_USERNAME>pip install python-dotenv\n",
    "</code>\n",
    "</p>"
   ]
  },
  {
   "cell_type": "markdown",
   "id": "307ac9d8",
   "metadata": {},
   "source": [
    "### Create an .env file"
   ]
  },
  {
   "cell_type": "code",
   "execution_count": 1,
   "id": "2f273f7d",
   "metadata": {},
   "outputs": [],
   "source": [
    "import os  # Standard Python package\n",
    "from pathlib import Path  # Standard Python package\n",
    "from dotenv import load_dotenv  # pip install python-dotenv\n",
    "\n",
    "# Determine the script directory or current working directory\n",
    "script_dir = Path.cwd()\n",
    "env_file_path = script_dir / \".env\"\n",
    "gitignore_file_path = script_dir / \".gitignore\"\n",
    "\n",
    "# Function to create a .env file with the specified content\n",
    "def create_env_file(env_file_path):\n",
    "    env_content = \"\"\"TEST_KEY=MyPassword123\n",
    "NEWS_API_KEY=<INPUT_YOUR_KEY_HERE>\n",
    "TODOIST_API_KEY=<INPUT_YOUR_KEY_HERE>\n",
    "WEATHER_API_KEY=<INPUT_YOUR_KEY_HERE>\n",
    "EMAIL_SENDER=<YOUR_EMAIL>\n",
    "EMAIL_PASSWORD=<YOUR_EMAIL_PASSWORD>\n",
    "\"\"\"\n",
    "    with env_file_path.open(mode=\"w\") as file:\n",
    "        file.write(env_content)\n",
    "\n",
    "# Function to create a .gitignore file and ignore the .env file\n",
    "def create_gitignore_file(gitignore_file_path):\n",
    "    gitignore_content = \"\"\".env\n",
    "# Python cache files\n",
    "__pycache__/\n",
    "*.pyc\n",
    "\n",
    "# OS generated files\n",
    ".DS_Store\n",
    "Thumbs.db\n",
    "\n",
    "# Jupyter notebook checkpoint directories\n",
    ".ipynb_checkpoints/\n",
    "\"\"\"\n",
    "    with gitignore_file_path.open(mode=\"w\") as file:\n",
    "        file.write(gitignore_content)\n",
    "\n",
    "# Create the .env file if it doesn't exist\n",
    "if not env_file_path.exists():\n",
    "    create_env_file(env_file_path)\n",
    "\n",
    "# Create the .gitignore file if it doesn't exist\n",
    "if not gitignore_file_path.exists():\n",
    "    create_gitignore_file(gitignore_file_path)"
   ]
  },
  {
   "cell_type": "markdown",
   "id": "0b91b232",
   "metadata": {},
   "source": [
    "### Load environment variables from .env file"
   ]
  },
  {
   "cell_type": "code",
   "execution_count": 2,
   "id": "cf3beca6",
   "metadata": {},
   "outputs": [
    {
     "data": {
      "text/plain": [
       "'MyPassword123'"
      ]
     },
     "execution_count": 2,
     "metadata": {},
     "output_type": "execute_result"
    }
   ],
   "source": [
    "# Load environment variables from .env file\n",
    "load_dotenv(env_file_path)\n",
    "\n",
    "# Now you can use os.getenv to read the environment variables\n",
    "TEST_KEY = os.getenv('TEST_KEY')\n",
    "TEST_KEY"
   ]
  },
  {
   "cell_type": "markdown",
   "id": "bad6cfa3",
   "metadata": {},
   "source": [
    "![env_file](https://pythonandvba.com/wp-content/uploads/2023/10/env_file.png \"env_file\")"
   ]
  },
  {
   "cell_type": "markdown",
   "id": "d7d089db",
   "metadata": {},
   "source": [
    "# <hr>"
   ]
  },
  {
   "cell_type": "markdown",
   "id": "0784ddf6",
   "metadata": {},
   "source": [
    "## ☀️ 1. Weather Information"
   ]
  },
  {
   "cell_type": "markdown",
   "id": "855c27d8",
   "metadata": {},
   "source": [
    "> Website: https://www.weatherbit.io/"
   ]
  },
  {
   "cell_type": "markdown",
   "id": "f8efaeda",
   "metadata": {},
   "source": [
    "### Requirements"
   ]
  },
  {
   "cell_type": "markdown",
   "id": "500f6d67",
   "metadata": {},
   "source": [
    "<p style=\"background:black\">\n",
    "<code style=\"background:black;color:white\">C:\\Users\\YOUR_USERNAME>pip install requests\n",
    "</code>\n",
    "</p>"
   ]
  },
  {
   "cell_type": "markdown",
   "id": "69b531d8",
   "metadata": {},
   "source": [
    "### Code"
   ]
  },
  {
   "cell_type": "code",
   "execution_count": 3,
   "id": "caf68ebe",
   "metadata": {},
   "outputs": [
    {
     "data": {
      "text/plain": [
       "{'count': 1,\n",
       " 'data': [{'app_temp': 19.3,\n",
       "   'aqi': 142,\n",
       "   'city_name': 'Tokyo',\n",
       "   'clouds': 87,\n",
       "   'country_code': 'JP',\n",
       "   'datetime': '2023-11-04:16',\n",
       "   'dewpt': 17,\n",
       "   'dhi': 0,\n",
       "   'dni': 0,\n",
       "   'elev_angle': -60.78,\n",
       "   'ghi': 0,\n",
       "   'gust': None,\n",
       "   'h_angle': -90,\n",
       "   'lat': 35.6895,\n",
       "   'lon': 139.69171,\n",
       "   'ob_time': '2023-11-04 16:30',\n",
       "   'pod': 'n',\n",
       "   'precip': 0,\n",
       "   'pres': 1023.4,\n",
       "   'rh': 88,\n",
       "   'slp': 1024,\n",
       "   'snow': 0,\n",
       "   'solar_rad': 0,\n",
       "   'sources': ['RJTT', 'radar', 'satellite'],\n",
       "   'state_code': '40',\n",
       "   'station': 'RJTT',\n",
       "   'sunrise': '21:05',\n",
       "   'sunset': '07:42',\n",
       "   'temp': 19,\n",
       "   'timezone': 'Asia/Tokyo',\n",
       "   'ts': 1699115400,\n",
       "   'uv': 0,\n",
       "   'vis': 16,\n",
       "   'weather': {'code': 803, 'icon': 'c03n', 'description': 'Broken clouds'},\n",
       "   'wind_cdir': 'N',\n",
       "   'wind_cdir_full': 'north',\n",
       "   'wind_dir': 360,\n",
       "   'wind_spd': 3.6}]}"
      ]
     },
     "execution_count": 3,
     "metadata": {},
     "output_type": "execute_result"
    }
   ],
   "source": [
    "import requests  # pip install requests\n",
    "\n",
    "WEATHER_API_KEY = os.getenv('WEATHER_API_KEY')\n",
    "\n",
    "city_name = \"Tokyo\"\n",
    "country_code = \"JP\"\n",
    "\n",
    "api_url = f\"https://api.weatherbit.io/v2.0/current?city={city_name}&country={country_code}&key={WEATHER_API_KEY}\"\n",
    "response = requests.get(api_url)\n",
    "response.raise_for_status()\n",
    "\n",
    "weather_data = response.json()\n",
    "weather_data"
   ]
  },
  {
   "cell_type": "code",
   "execution_count": 4,
   "id": "8f482962",
   "metadata": {},
   "outputs": [
    {
     "data": {
      "text/plain": [
       "'Currently, the weather in Tokyo, JP is 19°C with Broken clouds.'"
      ]
     },
     "execution_count": 4,
     "metadata": {},
     "output_type": "execute_result"
    }
   ],
   "source": [
    "# Get relevant weather data and construct weather report\n",
    "weather_data = response.json()[\"data\"][0]\n",
    "weather_report = (\n",
    "    f\"Currently, the weather in {weather_data['city_name']}, {weather_data['country_code']} \"\n",
    "    f\"is {weather_data['temp']}°C with {weather_data['weather']['description']}.\"\n",
    ")\n",
    "weather_report"
   ]
  },
  {
   "cell_type": "markdown",
   "id": "cc2a2b35",
   "metadata": {},
   "source": [
    "## 📃 2. To-Do List"
   ]
  },
  {
   "cell_type": "markdown",
   "id": "c0897dad",
   "metadata": {},
   "source": [
    "> `Todoist` is a productivity app designed to help individuals and teams organize, plan, and manage their tasks and projects across various devices."
   ]
  },
  {
   "cell_type": "markdown",
   "id": "fc24db8a",
   "metadata": {},
   "source": [
    "- Website: https://app.todoist.com/\n",
    "- Code Example GitHub: https://github.com/Doist/todoist-api-python"
   ]
  },
  {
   "cell_type": "markdown",
   "id": "09f2e968",
   "metadata": {},
   "source": [
    "### Requirements"
   ]
  },
  {
   "cell_type": "markdown",
   "id": "d81d9ce7",
   "metadata": {},
   "source": [
    "<p style=\"background:black\">\n",
    "<code style=\"background:black;color:white\">C:\\Users\\YOUR_USERNAME>pip install todoist-api-python\n",
    "</code>\n",
    "</p>"
   ]
  },
  {
   "cell_type": "markdown",
   "id": "447c4df8",
   "metadata": {},
   "source": [
    "### Code"
   ]
  },
  {
   "cell_type": "code",
   "execution_count": 5,
   "id": "a22e5200",
   "metadata": {},
   "outputs": [
    {
     "data": {
      "text/plain": [
       "[Task(assignee_id=None, assigner_id=None, comment_count=0, is_completed=False, content='Subscribe to CodingIsFun YT-Channel', created_at='2023-10-30T08:33:29.325113Z', creator_id='28626087', description='', due=None, id='7362279321', labels=[], order=1, parent_id=None, priority=1, project_id='2238629893', section_id=None, url='https://todoist.com/showTask?id=7362279321', sync_id=None),\n",
       " Task(assignee_id=None, assigner_id=None, comment_count=0, is_completed=False, content='Like the video', created_at='2023-10-30T08:33:34.831060Z', creator_id='28626087', description='', due=None, id='7362279555', labels=[], order=2, parent_id=None, priority=1, project_id='2238629893', section_id=None, url='https://todoist.com/showTask?id=7362279555', sync_id=None),\n",
       " Task(assignee_id=None, assigner_id=None, comment_count=0, is_completed=False, content='Leave a comment below', created_at='2023-10-30T08:33:44.246549Z', creator_id='28626087', description='', due=None, id='7362279961', labels=[], order=3, parent_id=None, priority=1, project_id='2238629893', section_id=None, url='https://todoist.com/showTask?id=7362279961', sync_id=None),\n",
       " Task(assignee_id=None, assigner_id=None, comment_count=0, is_completed=False, content='Follow along with this tutorial', created_at='2023-11-04T16:00:36.517815Z', creator_id='28626087', description='', due=None, id='7379304453', labels=[], order=4, parent_id=None, priority=1, project_id='2238629893', section_id=None, url='https://todoist.com/showTask?id=7379304453', sync_id=None)]"
      ]
     },
     "execution_count": 5,
     "metadata": {},
     "output_type": "execute_result"
    }
   ],
   "source": [
    "from todoist_api_python.api import TodoistAPI  # pip install todoist-api-python\n",
    "\n",
    "TODOIST_API_KEY = os.getenv('TODOIST_API_KEY')\n",
    "\n",
    "api = TodoistAPI(TODOIST_API_KEY)\n",
    "tasks = api.get_tasks()\n",
    "tasks"
   ]
  },
  {
   "cell_type": "code",
   "execution_count": 6,
   "id": "7c2995d6",
   "metadata": {},
   "outputs": [
    {
     "data": {
      "text/plain": [
       "'Subscribe to CodingIsFun YT-Channel, Like the video, Leave a comment below, Follow along with this tutorial'"
      ]
     },
     "execution_count": 6,
     "metadata": {},
     "output_type": "execute_result"
    }
   ],
   "source": [
    "tasks_content = []\n",
    "for task in tasks:\n",
    "    tasks_content.append(task.content)\n",
    "\", \".join(tasks_content)"
   ]
  },
  {
   "cell_type": "code",
   "execution_count": 7,
   "id": "d1ab980d",
   "metadata": {},
   "outputs": [
    {
     "data": {
      "text/plain": [
       "'Here are your open tasks: Subscribe to CodingIsFun YT-Channel, Like the video, Leave a comment below, Follow along with this tutorial'"
      ]
     },
     "execution_count": 7,
     "metadata": {},
     "output_type": "execute_result"
    }
   ],
   "source": [
    "tasks_content = [task.content for task in tasks]\n",
    "task_report = f\"Here are your open tasks: {', '.join(tasks_content)}\"\n",
    "task_report"
   ]
  },
  {
   "cell_type": "markdown",
   "id": "7dacb5ab",
   "metadata": {},
   "source": [
    "## 🗞️ 3. News"
   ]
  },
  {
   "cell_type": "markdown",
   "id": "f8fcb36d",
   "metadata": {},
   "source": [
    "- Website https://mediastack.com/\n",
    "- Code Examples (also for Python): https://mediastack.com/documentation\n",
    "- Json Pretty Print: https://jsonformatter.org/json-pretty-print"
   ]
  },
  {
   "cell_type": "code",
   "execution_count": 8,
   "id": "c51c2e50",
   "metadata": {},
   "outputs": [
    {
     "name": "stdout",
     "output_type": "stream",
     "text": [
      "{\"pagination\":{\"limit\":10,\"offset\":0,\"count\":10,\"total\":10000},\"data\":[{\"author\":null,\"title\":\"Ergenis over BKR-registratie wint met afstand van prijsverlaging nieuwe Tesla\",\"description\":\"In de afgelopen week stond bij DFT-bezoekers vooral de ergenis over de impact van de BKR-registratie op de hypotheek-aanvraag massaal in de belangstelling. De verwondering dat een nieuwe Tesla goedkoper is dan een occasion werd eveneens zeer goed bekeken.\",\"url\":\"https:\\/\\/www.telegraaf.nl\\/financieel\\/897609281\\/ergenis-over-bkr-registratie-wint-met-afstand-van-prijsverlaging-nieuwe-tesla?utm_source=RSS\\u0026utm_medium=RSS\",\"source\":\"De Telegraaf - Financieel Overzicht\",\"image\":\"https:\\/\\/www.telegraaf.nl\\/images\\/1200x630\\/filters:format(jpeg):quality(80)\\/cdn-kiosk-api.telegraaf.nl\\/b5cb5bbc-7b2d-11ee-b10a-02d2fb1aa1d7.jpg\",\"category\":\"business\",\"language\":\"nl\",\"country\":\"nl\",\"published_at\":\"2023-11-04T16:17:54+00:00\"},{\"author\":\"Chelsea Ritschel\",\"title\":\"Daylight saving time 2023: When to set your clocks back?\",\"description\":\"Turn your clocks back an hour on Sunday 5 November 2023\",\"url\":\"https:\\/\\/www.independent.co.uk\\/life-style\\/daylight-saving-time-2023-when-change-clock-b2441703.html\",\"source\":\"The Independent - Life and Style\",\"image\":\"https:\\/\\/static.independent.co.uk\\/2020\\/10\\/16\\/16\\/iStock-857031460.jpg?width=1200\\u0026auto=webp\",\"category\":\"entertainment\",\"language\":\"en\",\"country\":\"gb\",\"published_at\":\"2023-11-04T16:13:55+00:00\"},{\"author\":null,\"title\":\"\\u0026#039;Why has Dept of Defense never passed an audit?\\u0026#039;: Vivek Ramaswamy\\u0026#039;s latest salvo against US federal system\",\"description\":\"Vivek Ramaswamy has questioned why the Department of Defense remains the only US federal agency that has never completed or passed an audit.\",\"url\":\"https:\\/\\/www.businesstoday.in\\/latest\\/world\\/story\\/why-has-dept-of-defense-never-passed-an-audit-vivek-ramaswamys-latest-salvo-against-us-federal-system-404601-2023-11-04?utm_source=rssfeed\",\"source\":\"Business Today | Latest Stock Market And Economy News India\",\"image\":null,\"category\":\"business\",\"language\":\"en\",\"country\":\"in\",\"published_at\":\"2023-11-04T16:12:42+00:00\"},{\"author\":null,\"title\":\"Dit moet je weten over keukenpapier.\",\"description\":\"Dit moet je weten over keukenpapier.\",\"url\":\"https:\\/\\/www.telegraaf.nl\\/lifestyle\\/1004294163\\/dit-moet-je-weten-over-keukenpapier?utm_source=RSS\\u0026utm_medium=RSS\",\"source\":\"De Telegraaf - Lifestyle Overzicht\",\"image\":\"https:\\/\\/www.telegraaf.nl\\/images\\/1200x630\\/filters:format(jpeg):quality(80)\\/cdn-kiosk-api.telegraaf.nl\\/51d40494-7a5e-11ee-a14f-02c309bc01c1.jpg\",\"category\":\"entertainment\",\"language\":\"nl\",\"country\":\"nl\",\"published_at\":\"2023-11-04T16:11:00+00:00\"},{\"author\":null,\"title\":\"Looming migrant caravan re-ignites Republican demands for changes at the border: \\u0027Brace for the impact\\u0027\",\"description\":\"Republicans are calling for more action to secure the southern border, as another caravan of thousands of migrants makes its way to the U.S.\",\"url\":\"https:\\/\\/www.foxnews.com\\/politics\\/looming-migrant-caravan-republican-demands-changes-border\",\"source\":\"FOX News - Politics\",\"image\":\"https:\\/\\/a57.foxnews.com\\/static.foxnews.com\\/foxnews.com\\/content\\/uploads\\/2023\\/11\\/931\\/523\\/AP23303615175293-copy.jpg?ve=1\\u0026tl=1\",\"category\":\"politics\",\"language\":\"en\",\"country\":\"us\",\"published_at\":\"2023-11-04T16:01:56+00:00\"},{\"author\":null,\"title\":\"Bangladesh: heurts entre police et gr\\u00e9vistes lors de la r\\u00e9ouverture d\\u0027usines de v\\u00eatements\",\"description\":\"La police du Bangladesh a dispers\\u00e9 avec des gaz lacrymog\\u00e8nes des ouvriers en gr\\u00e8ve qui exigent de meilleurs salaires, pr\\u00e8s de la capitale samedi, tandis que la plupart des usines fournissant les grands groupes mondiaux d\\u0027habillement ont rouvert.\",\"url\":\"https:\\/\\/www.guadeloupe.franceantilles.fr\\/actualite\\/economie\\/bangladesh-heurts-entre-police-et-grevistes-lors-de-la-reouverture-dusines-de-vetements-960647.php\",\"source\":\"France-Antilles Guadeloupe - ECONOMIE et CONSOMMATION\",\"image\":\"https:\\/\\/medias.franceantilles.fr\\/api\\/v1\\/files\\/65466ac3f66ff7564120d0c8?alt=file\",\"category\":\"business\",\"language\":\"fr\",\"country\":\"fr\",\"published_at\":\"2023-11-04T16:01:09+00:00\"},{\"author\":null,\"title\":\"Bangladesh: heurts entre police et gr\\u00e9vistes lors de la r\\u00e9ouverture d\\u0027usines de v\\u00eatements\",\"description\":\"La police du Bangladesh a dispers\\u00e9 avec des gaz lacrymog\\u00e8nes des ouvriers en gr\\u00e8ve qui exigent de meilleurs salaires, pr\\u00e8s de la capitale samedi, tandis que la plupart des usines fournissant les grands groupes mondiaux d\\u0027habillement ont rouvert.\",\"url\":\"https:\\/\\/www.martinique.franceantilles.fr\\/actualite\\/economie\\/bangladesh-heurts-entre-police-et-grevistes-lors-de-la-reouverture-dusines-de-vetements-960647.php\",\"source\":\"France-Antilles Martinique - ECONOMIE et CONSOMMATION\",\"image\":\"https:\\/\\/medias.franceantilles.fr\\/api\\/v1\\/files\\/65466ac3f66ff7564120d0c8?alt=file\",\"category\":\"business\",\"language\":\"fr\",\"country\":\"fr\",\"published_at\":\"2023-11-04T16:01:09+00:00\"},{\"author\":null,\"title\":\"Robert De Niro\\u0027s ex-top assistant slams actor for abusive behavior with \\u0027creepy\\u0027 back-scratching requests\",\"description\":\"Robert De Niro\\u0026apos;s former assistant Graham Chase Robinson has alleged the actor repeatedly made inappropriate requests and showed abusive behavior.\",\"url\":\"https:\\/\\/www.foxnews.com\\/entertainment\\/robert-de-niro-ex-top-assistant-abusive-behavior-creepy-back-scratching-requests\",\"source\":\"FOX News - Entertainment\",\"image\":\"https:\\/\\/a57.foxnews.com\\/static.foxnews.com\\/foxnews.com\\/content\\/uploads\\/2023\\/11\\/931\\/523\\/robert-de-niro-trial.jpg?ve=1\\u0026tl=1\",\"category\":\"entertainment\",\"language\":\"en\",\"country\":\"us\",\"published_at\":\"2023-11-04T16:00:41+00:00\"},{\"author\":null,\"title\":\"Matthew Perry\\u2019s death has \\u2018destroyed\\u2019 \\u2018Friends\\u2019 cast; Mariah Carey faces $20 million lawsuit\",\"description\":\"The Fox News Entertainment newsletter brings you the latest Hollywood headlines, celebrity interviews and stories from Los Angeles and beyond.\",\"url\":\"https:\\/\\/www.foxnews.com\\/entertainment\\/matthew-perrys-death-destroyed-friends-cast-mariah-carey-faces-20-million-lawsuit\",\"source\":\"FOX News - Entertainment\",\"image\":\"https:\\/\\/a57.foxnews.com\\/static.foxnews.com\\/foxnews.com\\/content\\/uploads\\/2023\\/11\\/931\\/524\\/matthew-perry-mariah-carey.jpg?ve=1\\u0026tl=1\",\"category\":\"entertainment\",\"language\":\"en\",\"country\":\"us\",\"published_at\":\"2023-11-04T16:00:31+00:00\"},{\"author\":\"Ford James\",\"title\":\"The Lord of the Rings: Return to Moria still has fathoms to go\",\"description\":\"Image: Free Range Games\\/North Beach Games via Polygon Linear exploration hinders satisfying collecting Continue reading\\u0026hellip;\",\"url\":\"https:\\/\\/www.polygon.com\\/reviews\\/23945521\\/lord-of-the-rings-return-to-moria-game-review\",\"source\":\"Polygon\",\"image\":null,\"category\":\"entertainment\",\"language\":\"en\",\"country\":\"us\",\"published_at\":\"2023-11-04T16:00:00+00:00\"}]}\n"
     ]
    }
   ],
   "source": [
    "import http.client, urllib.parse\n",
    "\n",
    "NEWS_API_KEY = os.getenv('NEWS_API_KEY')\n",
    "\n",
    "conn = http.client.HTTPConnection('api.mediastack.com')\n",
    "\n",
    "params = urllib.parse.urlencode({\n",
    "    'access_key': NEWS_API_KEY,\n",
    "    'categories': '-general,-sports',\n",
    "    'sort': 'published_desc',\n",
    "    'limit': 10,\n",
    "})\n",
    "\n",
    "conn.request('GET', '/v1/news?{}'.format(params))\n",
    "\n",
    "res = conn.getresponse()\n",
    "data = res.read()\n",
    "\n",
    "print(data.decode('utf-8'))"
   ]
  },
  {
   "cell_type": "code",
   "execution_count": 9,
   "id": "ec36efcd",
   "metadata": {},
   "outputs": [
    {
     "data": {
      "text/plain": [
       "[{'author': 'Cde',\n",
       "  'title': 'Musk’s xAI set to launch first AI model to select group',\n",
       "  'description': '(Reuters)\\xa0&#8211;\\xa0Elon Musk&#8217;s artificial intelligence startup xAI will release its first AI model to a select group on Saturday, the billionaire and Tesla\\xa0CEO\\xa0said. This comes nearly a year after OpenAI&#8217;s ChatGPT caught the imagination of businesses and users around the world, spurring a surge in adoption of generative AI technology. Musk co-founded OpenAI, the company behind [&#8230;]',\n",
       "  'url': 'https://cde.news/musks-xai-set-to-launch-first-ai-model-to-select-group/',\n",
       "  'source': 'di-ve',\n",
       "  'image': None,\n",
       "  'category': 'general',\n",
       "  'language': 'en',\n",
       "  'country': 'us',\n",
       "  'published_at': '2023-11-04T14:00:00+00:00'},\n",
       " {'author': None,\n",
       "  'title': 'Sở hữu tài khoản ChatGPT tại Việt Nam chỉ với 6 bước đơn giản',\n",
       "  'description': 'OpenAI vừa chính thức mở đăng ký và sử dụng tài khoản cho người dùng tại Việt Nam với đầy đủ lựa chọn: miễn phí hoặc trả phí.',\n",
       "  'url': 'https://kenh14.vn/so-huu-tai-khoan-chatgpt-tai-viet-nam-chi-voi-6-buoc-don-gian-20231104163623597.chn',\n",
       "  'source': 'Kenh 14',\n",
       "  'image': None,\n",
       "  'category': 'general',\n",
       "  'language': 'en',\n",
       "  'country': 'vn',\n",
       "  'published_at': '2023-11-04T09:36:48+00:00'},\n",
       " {'author': 'Kyle Wiggers',\n",
       "  'title': 'Musk says Twitter subscribers will get early access to xAI’s chatbot, Grok',\n",
       "  'description': 'Elon Musk&#8217;s AI startup, xAI, is creating its own version of ChatGPT. That appears to be the case, at least, from Musk&#8217;s tweets on X Friday evening teasing the AI model xAI has been developing. Called Grok &#8212; a name xAI trademarked recently &#8212; the model answers questions conversationally, possibly drawing on a knowledge base [&#8230;]© 2023 TechCrunch. All rights reserved. For personal use only.',\n",
       "  'url': 'https://techcrunch.com/2023/11/03/musk-says-twitter-subscribers-will-get-early-access-to-xais-chatbot-grok/',\n",
       "  'source': 'TechCrunch',\n",
       "  'image': None,\n",
       "  'category': 'technology',\n",
       "  'language': 'en',\n",
       "  'country': 'us',\n",
       "  'published_at': '2023-11-04T04:23:36+00:00'}]"
      ]
     },
     "execution_count": 9,
     "metadata": {},
     "output_type": "execute_result"
    }
   ],
   "source": [
    "## Adjustments to the code:\n",
    "# - Using the requests module\n",
    "# - Get current date\n",
    "# - Adjust params\n",
    "# - Filter output using JSON\n",
    "\n",
    "import json\n",
    "from datetime import datetime\n",
    "\n",
    "current_date = datetime.now().strftime(\"%Y-%m-%d\")\n",
    "params = {\n",
    "    \"access_key\": os.getenv('NEWS_API_KEY'),\n",
    "    \"keywords\": \"chatgpt\",\n",
    "    \"languages\": \"en\",\n",
    "    \"sort\": \"published_desc\",\n",
    "    \"date\": current_date,\n",
    "    \"limit\": 3,\n",
    "}\n",
    "\n",
    "response = requests.get(\"http://api.mediastack.com/v1/news\", params=params)\n",
    "news_items = response.json()[\"data\"]\n",
    "news_items"
   ]
  },
  {
   "cell_type": "code",
   "execution_count": 10,
   "id": "adf0edcf",
   "metadata": {},
   "outputs": [
    {
     "data": {
      "text/plain": [
       "'Title: Musk’s xAI set to launch first AI model to select group\\nDescription: (Reuters)\\xa0&#8211;\\xa0Elon Musk&#8217;s artificial intelligence startup xAI will release its first AI model to a select group on Saturday, the billionaire and Tesla\\xa0CEO\\xa0said. This comes nearly a year after OpenAI&#8217;s ChatGPT caught the imagination of businesses and users around the world, spurring a surge in adoption of generative AI technology. Musk co-founded OpenAI, the company behind [&#8230;]\\nURL: https://cde.news/musks-xai-set-to-launch-first-ai-model-to-select-group/\\n\\nTitle: Sở hữu tài khoản ChatGPT tại Việt Nam chỉ với 6 bước đơn giản\\nDescription: OpenAI vừa chính thức mở đăng ký và sử dụng tài khoản cho người dùng tại Việt Nam với đầy đủ lựa chọn: miễn phí hoặc trả phí.\\nURL: https://kenh14.vn/so-huu-tai-khoan-chatgpt-tai-viet-nam-chi-voi-6-buoc-don-gian-20231104163623597.chn\\n\\nTitle: Musk says Twitter subscribers will get early access to xAI’s chatbot, Grok\\nDescription: Elon Musk&#8217;s AI startup, xAI, is creating its own version of ChatGPT. That appears to be the case, at least, from Musk&#8217;s tweets on X Friday evening teasing the AI model xAI has been developing. Called Grok &#8212; a name xAI trademarked recently &#8212; the model answers questions conversationally, possibly drawing on a knowledge base [&#8230;]© 2023 TechCrunch. All rights reserved. For personal use only.\\nURL: https://techcrunch.com/2023/11/03/musk-says-twitter-subscribers-will-get-early-access-to-xais-chatbot-grok/'"
      ]
     },
     "execution_count": 10,
     "metadata": {},
     "output_type": "execute_result"
    }
   ],
   "source": [
    "news_text = \"\\n\\n\".join(\n",
    "    f\"Title: {item.get('title', 'No title provided')}\\n\"\n",
    "    f\"Description: {item.get('description', 'No description provided')}\\n\"\n",
    "    f\"URL: {item.get('url', 'No URL provided')}\"\n",
    "    for item in news_items\n",
    ")\n",
    "news_text"
   ]
  },
  {
   "cell_type": "markdown",
   "id": "f9c58a8d",
   "metadata": {},
   "source": [
    "## 📧 4. Send Email"
   ]
  },
  {
   "cell_type": "markdown",
   "id": "37dfe2c5",
   "metadata": {},
   "source": [
    "- Create Outlook Email Account: https://www.microsoft.com/en-us/microsoft-365-life-hacks/organization/how-to-create-outlook-email-account"
   ]
  },
  {
   "cell_type": "code",
   "execution_count": 11,
   "id": "e34e5289",
   "metadata": {},
   "outputs": [
    {
     "name": "stdout",
     "output_type": "stream",
     "text": [
      "Email sent successfully.\n"
     ]
    }
   ],
   "source": [
    "import smtplib\n",
    "from email.message import EmailMessage\n",
    "\n",
    "sender = os.getenv('EMAIL_SENDER')\n",
    "password = os.getenv('EMAIL_PASSWORD')\n",
    "\n",
    "SMTP_SERVER = \"smtp-mail.outlook.com\"\n",
    "SMTP_PORT = 587\n",
    "\n",
    "subject = \"Your Morning Update 🚀\"\n",
    "\n",
    "message_body = (\n",
    "    \"Good morning! Here's your update:\\n\\n\"\n",
    "    \"---- NEWS ----\\n\\n\"\n",
    "    f\"{news_text}\\n\\n\"\n",
    "    \"---- WEATHER ----\\n\\n\"\n",
    "    f\"{weather_report}\\n\\n\"\n",
    "    \"---- TO-DO LIST ----\\n\\n\"\n",
    "    f\"{task_report}\\n\"\n",
    ")\n",
    "\n",
    "try:\n",
    "    email = EmailMessage()\n",
    "    email[\"From\"] = sender\n",
    "    email[\"To\"] = sender  # sending email to myself\n",
    "    email[\"Subject\"] = subject\n",
    "    email.set_content(message_body)\n",
    "\n",
    "    with smtplib.SMTP(SMTP_SERVER, port=SMTP_PORT) as smtp:\n",
    "        smtp.starttls()\n",
    "        smtp.login(sender, password)\n",
    "        smtp.send_message(email)\n",
    "    print(\"Email sent successfully.\")\n",
    "except Exception as e:\n",
    "    print(f\"Failed to send email. Error: {e}\")"
   ]
  },
  {
   "cell_type": "markdown",
   "id": "c716918b",
   "metadata": {},
   "source": [
    "## 🏆 Code Refactoring"
   ]
  },
  {
   "cell_type": "code",
   "execution_count": 12,
   "id": "21863f28",
   "metadata": {},
   "outputs": [
    {
     "name": "stdout",
     "output_type": "stream",
     "text": [
      "Email sent successfully.\n"
     ]
    }
   ],
   "source": [
    "# Standard library imports\n",
    "import os\n",
    "import smtplib\n",
    "from datetime import datetime\n",
    "from email.message import EmailMessage\n",
    "from pathlib import Path\n",
    "\n",
    "# Third-party library imports\n",
    "import requests  # pip install requests\n",
    "from dotenv import load_dotenv  # pip install python-dotenv\n",
    "from todoist_api_python.api import TodoistAPI  # pip install todoist-api-python\n",
    "\n",
    "\n",
    "# Load environment variables from .env file\n",
    "def load_environment_variables():\n",
    "    \"\"\"Load environment variables from the .env file.\"\"\"\n",
    "    try:\n",
    "        # Try to get the directory where the script is located.\n",
    "        # This will work when the script is run as a file.\n",
    "        script_dir = Path(__file__).resolve().parent\n",
    "    except NameError:\n",
    "        # If __file__ is not defined (like in a Jupyter notebook), get the cwd instead.\n",
    "        script_dir = Path(os.getcwd())\n",
    "    env_file_path = script_dir / \".env\"\n",
    "    load_dotenv(env_file_path)\n",
    "    \n",
    "    \n",
    "def get_news(news_api_key):\n",
    "    \"\"\"Fetch the latest news articles containing the keyword 'chatgpt'.\"\"\"\n",
    "    try:\n",
    "        current_date = datetime.now().strftime(\"%Y-%m-%d\")\n",
    "        params = {\n",
    "            \"access_key\": news_api_key,\n",
    "            \"keywords\": \"chatgpt\",\n",
    "            \"languages\": \"en\",\n",
    "            \"sort\": \"published_desc\",\n",
    "            \"date\": current_date,\n",
    "            \"limit\": 3,\n",
    "        }\n",
    "\n",
    "        response = requests.get(\"http://api.mediastack.com/v1/news\", params=params)\n",
    "        response.raise_for_status()\n",
    "        news_items = response.json()[\"data\"]\n",
    "\n",
    "        news_text = \"\\n\\n\".join(\n",
    "            f\"Title: {item.get('title', 'No title provided')}\\n\"\n",
    "            f\"Description: {item.get('description', 'No description provided')}\\n\"\n",
    "            f\"URL: {item.get('url', 'No URL provided')}\"\n",
    "            for item in news_items\n",
    "        )\n",
    "\n",
    "        return news_text\n",
    "    except requests.RequestException as e:\n",
    "        return f\"News information is currently unavailable. Error: {e}\"\n",
    "\n",
    "\n",
    "def get_weather(api_key, city_name, country_code):\n",
    "    \"\"\"Fetch the current weather for a given city and country.\"\"\"\n",
    "    try:\n",
    "        api_url = f\"https://api.weatherbit.io/v2.0/current?city={city_name}&country={country_code}&key={api_key}\"\n",
    "        response = requests.get(api_url)\n",
    "        response.raise_for_status()\n",
    "\n",
    "        weather_data = response.json()[\"data\"][0]\n",
    "        weather_report = (\n",
    "            f\"Currently, the weather in {weather_data['city_name']}, {weather_data['country_code']} \"\n",
    "            f\"is {weather_data['temp']}°C with {weather_data['weather']['description']}.\"\n",
    "        )\n",
    "        return weather_report\n",
    "    except requests.RequestException:\n",
    "        return \"Weather information is currently unavailable.\"\n",
    "\n",
    "\n",
    "def get_tasks(todoist_api_key):\n",
    "    \"\"\"Retrieve open tasks from Todoist.\"\"\"\n",
    "    try:\n",
    "        api = TodoistAPI(todoist_api_key)\n",
    "        tasks = api.get_tasks()\n",
    "        tasks_content = [task.content for task in tasks]\n",
    "        return f\"Here are your open tasks: {', '.join(tasks_content)}\"\n",
    "    except Exception:\n",
    "        return \"Could not retrieve tasks.\"\n",
    "\n",
    "\n",
    "def send_email(\n",
    "    sender, recipient, subject, message_body, smtp_server, smtp_port, password\n",
    "):\n",
    "    \"\"\"Send an email using the specified SMTP server and login credentials.\"\"\"\n",
    "    try:\n",
    "        email = EmailMessage()\n",
    "        email[\"From\"] = sender\n",
    "        email[\"To\"] = recipient\n",
    "        email[\"Subject\"] = subject\n",
    "        email.set_content(message_body)\n",
    "\n",
    "        with smtplib.SMTP(smtp_server, port=smtp_port) as smtp:\n",
    "            smtp.starttls()\n",
    "            smtp.login(sender, password)\n",
    "            smtp.send_message(email)\n",
    "        return \"Email sent successfully.\"\n",
    "    except Exception as e:\n",
    "        return f\"Failed to send email. Error: {e}\"\n",
    "\n",
    "\n",
    "def main():\n",
    "    load_environment_variables()\n",
    "\n",
    "    # Retrieve sensitive data\n",
    "    news_api_key = os.getenv(\"NEWS_API_KEY\")\n",
    "    todoist_api_key = os.getenv(\"TODOIST_API_KEY\")\n",
    "    weather_api_key = os.getenv(\"WEATHER_API_KEY\")\n",
    "    sender = os.getenv(\"EMAIL_SENDER\")\n",
    "    password = os.getenv(\"EMAIL_PASSWORD\")\n",
    "\n",
    "    # Email config\n",
    "    SMTP_SERVER = \"smtp-mail.outlook.com\"\n",
    "    SMTP_PORT = 587\n",
    "\n",
    "    news = get_news(news_api_key)\n",
    "    weather = get_weather(weather_api_key, \"Dresden\", \"DE\")\n",
    "    tasks = get_tasks(todoist_api_key)\n",
    "\n",
    "    # Create the email body with separated sections\n",
    "    message_body = (\n",
    "        \"Good morning! Here's your update:\\n\\n\"\n",
    "        \"---- NEWS ----\\n\\n\"\n",
    "        f\"{news}\\n\\n\"\n",
    "        \"---- WEATHER ----\\n\\n\"\n",
    "        f\"{weather}\\n\\n\"\n",
    "        \"---- TO-DO LIST ----\\n\\n\"\n",
    "        f\"{tasks}\\n\"\n",
    "    )\n",
    "\n",
    "    # Send the email to the sender\n",
    "    email_status = send_email(\n",
    "        sender=sender,\n",
    "        recipient=sender,  # sending email to myself\n",
    "        subject=\"Your Morning Update 🚀\",\n",
    "        message_body=message_body,\n",
    "        smtp_server=SMTP_SERVER,\n",
    "        smtp_port=SMTP_PORT,\n",
    "        password=password,\n",
    "    )\n",
    "    print(email_status)\n",
    "\n",
    "\n",
    "if __name__ == \"__main__\":\n",
    "    main()"
   ]
  }
 ],
 "metadata": {
  "kernelspec": {
   "display_name": "Python 3 (ipykernel)",
   "language": "python",
   "name": "python3"
  },
  "language_info": {
   "codemirror_mode": {
    "name": "ipython",
    "version": 3
   },
   "file_extension": ".py",
   "mimetype": "text/x-python",
   "name": "python",
   "nbconvert_exporter": "python",
   "pygments_lexer": "ipython3",
   "version": "3.11.5"
  }
 },
 "nbformat": 4,
 "nbformat_minor": 5
}
